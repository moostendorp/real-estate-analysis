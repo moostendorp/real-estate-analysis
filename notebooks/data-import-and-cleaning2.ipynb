{
 "cells": [
  {
   "cell_type": "code",
   "execution_count": 3,
   "metadata": {
    "_cell_guid": "b1076dfc-b9ad-4769-8c92-a6c4dae69d19",
    "_uuid": "8f2839f25d086af736a60e9eeb907d3b93b6e0e5",
    "execution": {
     "iopub.execute_input": "2024-10-29T05:26:39.038752Z",
     "iopub.status.busy": "2024-10-29T05:26:39.038310Z",
     "iopub.status.idle": "2024-10-29T05:26:39.102279Z",
     "shell.execute_reply": "2024-10-29T05:26:39.101223Z",
     "shell.execute_reply.started": "2024-10-29T05:26:39.038715Z"
    },
    "trusted": true
   },
   "outputs": [],
   "source": [
    "import pandas as pd # type: ignore\n",
    "\n",
    "# Load the dataset\n",
    "#df = pd.read_csv('/kaggle/input/phillipines-housing-market/Housing_v2.csv')\n",
    "df = pd.read_csv('/mnt/data/work/real-estate-analysis/data/raw/PH_Housing.csv')\n",
    "\n",
    "# Format column names\n",
    "df.columns = df.columns.str.strip().str.replace(' ', '_').str.lower()\n",
    "# Set display options for 2 decimal places (doesn't change actual data)\n",
    "pd.options.display.float_format = '{:.2f}'.format\n",
    "#print(df.describe)\n",
    "#print (df.columns)\n",
    "#df.info()\n",
    "df.dropna()\n",
    "\n",
    "\n",
    "# Split 'location' into two columns, handling cases with missing province\n",
    "location_split = df['location'].str.split(',', expand=True)\n",
    "\n",
    "# Assign columns, filling in any missing values with NaN\n",
    "df['city'] = location_split[0].str.strip()\n",
    "df['province'] = location_split[1].str.strip()\n",
    "\n",
    "# Display the updated DataFrame\n",
    "#print(df)\n",
    "df.drop(columns=['location'], inplace=True)\n",
    "df = df.drop_duplicates()\n",
    "\n",
    "df.to_csv('/mnt/data/work/real-estate-analysis/data/cleaned/PH_Housing-nodupes.csv', index=False, sep=',', decimal='.')\n"
   ]
  }
 ],
 "metadata": {
  "kaggle": {
   "accelerator": "none",
   "dataSources": [
    {
     "datasetId": 4636380,
     "sourceId": 7900244,
     "sourceType": "datasetVersion"
    }
   ],
   "dockerImageVersionId": 30786,
   "isGpuEnabled": false,
   "isInternetEnabled": false,
   "language": "python",
   "sourceType": "notebook"
  },
  "kernelspec": {
   "display_name": "base",
   "language": "python",
   "name": "python3"
  },
  "language_info": {
   "codemirror_mode": {
    "name": "ipython",
    "version": 3
   },
   "file_extension": ".py",
   "mimetype": "text/x-python",
   "name": "python",
   "nbconvert_exporter": "python",
   "pygments_lexer": "ipython3",
   "version": "3.12.2"
  }
 },
 "nbformat": 4,
 "nbformat_minor": 4
}
