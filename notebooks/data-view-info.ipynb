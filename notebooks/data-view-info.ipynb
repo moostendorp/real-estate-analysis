{
 "cells": [
  {
   "cell_type": "markdown",
   "id": "47eecf57",
   "metadata": {},
   "source": [
    "Loading, displaying first few, and info"
   ]
  },
  {
   "cell_type": "code",
   "execution_count": 1,
   "id": "c3f794c1",
   "metadata": {
    "_cell_guid": "b1076dfc-b9ad-4769-8c92-a6c4dae69d19",
    "_uuid": "8f2839f25d086af736a60e9eeb907d3b93b6e0e5",
    "execution": {
     "iopub.execute_input": "2024-10-29T04:32:03.850586Z",
     "iopub.status.busy": "2024-10-29T04:32:03.849684Z",
     "iopub.status.idle": "2024-10-29T04:32:04.874712Z",
     "shell.execute_reply": "2024-10-29T04:32:04.873323Z"
    },
    "papermill": {
     "duration": 1.033391,
     "end_time": "2024-10-29T04:32:04.877995",
     "exception": false,
     "start_time": "2024-10-29T04:32:03.844604",
     "status": "completed"
    },
    "tags": []
   },
   "outputs": [
    {
     "data": {
      "text/plain": [
       "<bound method DataFrame.info of       houseid                                        description       price  \\\n",
       "0           1  Preselling 2-Storey Townhouses in Village East...  9500000.00   \n",
       "1           2  Affordable House & Lot with Complete Amenities...  4400000.00   \n",
       "2           3  5BR 2-Storey House and Lot for Sale in Tarlac ...  7810000.00   \n",
       "3           4  Maya Solo 3 Bedrooms Single Detached House for...         NaN   \n",
       "4           5  Futura Homes Zamboanga | Amber 2BR Townhouse E...  3275000.00   \n",
       "...       ...                                                ...         ...   \n",
       "1495     1496  5 Bedroom House and Lot for sale in Asisan, Ta... 16000000.00   \n",
       "1496     1497  For Sale: Affordable 3 Bedroom Townhouse at Se...  4500000.00   \n",
       "1497     1498  Modern 4BR House with Swimming Pool in AFPOVAI... 45000000.00   \n",
       "1498     1499  Modern House w/ Overlooking Mountain view in A... 78000000.00   \n",
       "1499     1500  [04847-CEB-124] Townhouse for sale in Brgy Tuy...  5500000.00   \n",
       "\n",
       "      bedrooms  bathrooms  floor_area  land_area  latitude  longitude  \\\n",
       "0         4.00       3.00      144.00     136.00     14.58     121.12   \n",
       "1         3.00       2.00       63.20      80.00     14.81     121.00   \n",
       "2         5.00       3.00      100.00     110.00     15.48     120.61   \n",
       "3         3.00       2.00       67.00      88.00     14.72     120.53   \n",
       "4         2.00       1.00       40.30      78.40      6.95     122.11   \n",
       "...        ...        ...         ...        ...       ...        ...   \n",
       "1495      5.00       2.00      180.00     540.00     14.10     120.91   \n",
       "1496      3.00       2.00       90.00      55.00     10.24     123.82   \n",
       "1497      4.00       3.00      370.00     200.00     14.51     121.04   \n",
       "1498      5.00       5.00      822.00     556.00     14.59     121.18   \n",
       "1499      2.00       4.00      112.00     120.00     10.37     123.98   \n",
       "\n",
       "                                                   city     province  \n",
       "0                                         Santo Domingo       Cainta  \n",
       "1                                           San Vicente  Santa Maria  \n",
       "2                    Camella Tarlac Access Rd. Maliwalo       Tarlac  \n",
       "3                                                 Gabon       Abucay  \n",
       "4                                  Zambowood Rd. Boalan    Zamboanga  \n",
       "...                                                 ...          ...  \n",
       "1495                                             Asisan     Tagaytay  \n",
       "1496                                               Pooc      Talisay  \n",
       "1497                                    Western Bicutan       Taguig  \n",
       "1498                                           Antipolo          NaN  \n",
       "1499  Lot 69 Block 2 Pueblo El Grande Subdivision Ph...  Consolacion  \n",
       "\n",
       "[1500 rows x 11 columns]>"
      ]
     },
     "execution_count": 1,
     "metadata": {},
     "output_type": "execute_result"
    }
   ],
   "source": [
    "import pandas as pd # type: ignore\n",
    "\n",
    "# Load the dataset\n",
    "df = pd.read_csv('/mnt/data/work/real-estate-analysis/data/cleaned/PH_Housing-locationsplit.csv')\n",
    "\n",
    "# Format column names\n",
    "df.columns = df.columns.str.strip().str.replace(' ', '_').str.lower()\n",
    "# Set display options for 2 decimal places (doesn't change actual data)\n",
    "pd.options.display.float_format = '{:.2f}'.format\n",
    "\n",
    "# Display the first few rows\n",
    "\n",
    "df.info\n",
    "\n",
    "# Describe\n",
    "\n",
    "\n",
    "# print(df.head(50))\n"
   ]
  },
  {
   "cell_type": "markdown",
   "id": "6a24aba2",
   "metadata": {},
   "source": [
    "Describe"
   ]
  },
  {
   "cell_type": "code",
   "execution_count": 3,
   "id": "6aa22ccb",
   "metadata": {},
   "outputs": [
    {
     "data": {
      "text/plain": [
       "<bound method NDFrame.describe of       houseid                                        description       price  \\\n",
       "0           1  Preselling 2-Storey Townhouses in Village East...  9500000.00   \n",
       "1           2  Affordable House & Lot with Complete Amenities...  4400000.00   \n",
       "2           3  5BR 2-Storey House and Lot for Sale in Tarlac ...  7810000.00   \n",
       "3           4  Maya Solo 3 Bedrooms Single Detached House for...         NaN   \n",
       "4           5  Futura Homes Zamboanga | Amber 2BR Townhouse E...  3275000.00   \n",
       "...       ...                                                ...         ...   \n",
       "1495     1496  5 Bedroom House and Lot for sale in Asisan, Ta... 16000000.00   \n",
       "1496     1497  For Sale: Affordable 3 Bedroom Townhouse at Se...  4500000.00   \n",
       "1497     1498  Modern 4BR House with Swimming Pool in AFPOVAI... 45000000.00   \n",
       "1498     1499  Modern House w/ Overlooking Mountain view in A... 78000000.00   \n",
       "1499     1500  [04847-CEB-124] Townhouse for sale in Brgy Tuy...  5500000.00   \n",
       "\n",
       "      bedrooms  bathrooms  floor_area  land_area  latitude  longitude  \\\n",
       "0         4.00       3.00      144.00     136.00     14.58     121.12   \n",
       "1         3.00       2.00       63.20      80.00     14.81     121.00   \n",
       "2         5.00       3.00      100.00     110.00     15.48     120.61   \n",
       "3         3.00       2.00       67.00      88.00     14.72     120.53   \n",
       "4         2.00       1.00       40.30      78.40      6.95     122.11   \n",
       "...        ...        ...         ...        ...       ...        ...   \n",
       "1495      5.00       2.00      180.00     540.00     14.10     120.91   \n",
       "1496      3.00       2.00       90.00      55.00     10.24     123.82   \n",
       "1497      4.00       3.00      370.00     200.00     14.51     121.04   \n",
       "1498      5.00       5.00      822.00     556.00     14.59     121.18   \n",
       "1499      2.00       4.00      112.00     120.00     10.37     123.98   \n",
       "\n",
       "                                                   city     province  \n",
       "0                                         Santo Domingo       Cainta  \n",
       "1                                           San Vicente  Santa Maria  \n",
       "2                    Camella Tarlac Access Rd. Maliwalo       Tarlac  \n",
       "3                                                 Gabon       Abucay  \n",
       "4                                  Zambowood Rd. Boalan    Zamboanga  \n",
       "...                                                 ...          ...  \n",
       "1495                                             Asisan     Tagaytay  \n",
       "1496                                               Pooc      Talisay  \n",
       "1497                                    Western Bicutan       Taguig  \n",
       "1498                                           Antipolo          NaN  \n",
       "1499  Lot 69 Block 2 Pueblo El Grande Subdivision Ph...  Consolacion  \n",
       "\n",
       "[1500 rows x 11 columns]>"
      ]
     },
     "execution_count": 3,
     "metadata": {},
     "output_type": "execute_result"
    }
   ],
   "source": [
    "df.describe"
   ]
  },
  {
   "cell_type": "markdown",
   "id": "266d322c",
   "metadata": {},
   "source": [
    "info"
   ]
  },
  {
   "cell_type": "code",
   "execution_count": 4,
   "id": "c95ed07b",
   "metadata": {},
   "outputs": [
    {
     "data": {
      "text/plain": [
       "<bound method DataFrame.info of       houseid                                        description       price  \\\n",
       "0           1  Preselling 2-Storey Townhouses in Village East...  9500000.00   \n",
       "1           2  Affordable House & Lot with Complete Amenities...  4400000.00   \n",
       "2           3  5BR 2-Storey House and Lot for Sale in Tarlac ...  7810000.00   \n",
       "3           4  Maya Solo 3 Bedrooms Single Detached House for...         NaN   \n",
       "4           5  Futura Homes Zamboanga | Amber 2BR Townhouse E...  3275000.00   \n",
       "...       ...                                                ...         ...   \n",
       "1495     1496  5 Bedroom House and Lot for sale in Asisan, Ta... 16000000.00   \n",
       "1496     1497  For Sale: Affordable 3 Bedroom Townhouse at Se...  4500000.00   \n",
       "1497     1498  Modern 4BR House with Swimming Pool in AFPOVAI... 45000000.00   \n",
       "1498     1499  Modern House w/ Overlooking Mountain view in A... 78000000.00   \n",
       "1499     1500  [04847-CEB-124] Townhouse for sale in Brgy Tuy...  5500000.00   \n",
       "\n",
       "      bedrooms  bathrooms  floor_area  land_area  latitude  longitude  \\\n",
       "0         4.00       3.00      144.00     136.00     14.58     121.12   \n",
       "1         3.00       2.00       63.20      80.00     14.81     121.00   \n",
       "2         5.00       3.00      100.00     110.00     15.48     120.61   \n",
       "3         3.00       2.00       67.00      88.00     14.72     120.53   \n",
       "4         2.00       1.00       40.30      78.40      6.95     122.11   \n",
       "...        ...        ...         ...        ...       ...        ...   \n",
       "1495      5.00       2.00      180.00     540.00     14.10     120.91   \n",
       "1496      3.00       2.00       90.00      55.00     10.24     123.82   \n",
       "1497      4.00       3.00      370.00     200.00     14.51     121.04   \n",
       "1498      5.00       5.00      822.00     556.00     14.59     121.18   \n",
       "1499      2.00       4.00      112.00     120.00     10.37     123.98   \n",
       "\n",
       "                                                   city     province  \n",
       "0                                         Santo Domingo       Cainta  \n",
       "1                                           San Vicente  Santa Maria  \n",
       "2                    Camella Tarlac Access Rd. Maliwalo       Tarlac  \n",
       "3                                                 Gabon       Abucay  \n",
       "4                                  Zambowood Rd. Boalan    Zamboanga  \n",
       "...                                                 ...          ...  \n",
       "1495                                             Asisan     Tagaytay  \n",
       "1496                                               Pooc      Talisay  \n",
       "1497                                    Western Bicutan       Taguig  \n",
       "1498                                           Antipolo          NaN  \n",
       "1499  Lot 69 Block 2 Pueblo El Grande Subdivision Ph...  Consolacion  \n",
       "\n",
       "[1500 rows x 11 columns]>"
      ]
     },
     "execution_count": 4,
     "metadata": {},
     "output_type": "execute_result"
    }
   ],
   "source": [
    "df.info"
   ]
  }
 ],
 "metadata": {
  "kaggle": {
   "accelerator": "none",
   "dataSources": [
    {
     "datasetId": 4636380,
     "sourceId": 7900244,
     "sourceType": "datasetVersion"
    }
   ],
   "dockerImageVersionId": 30786,
   "isGpuEnabled": false,
   "isInternetEnabled": false,
   "language": "python",
   "sourceType": "notebook"
  },
  "kernelspec": {
   "display_name": "base",
   "language": "python",
   "name": "python3"
  },
  "language_info": {
   "codemirror_mode": {
    "name": "ipython",
    "version": 3
   },
   "file_extension": ".py",
   "mimetype": "text/x-python",
   "name": "python",
   "nbconvert_exporter": "python",
   "pygments_lexer": "ipython3",
   "version": "3.12.2"
  },
  "papermill": {
   "default_parameters": {},
   "duration": 4.493971,
   "end_time": "2024-10-29T04:32:05.401434",
   "environment_variables": {},
   "exception": null,
   "input_path": "__notebook__.ipynb",
   "output_path": "__notebook__.ipynb",
   "parameters": {},
   "start_time": "2024-10-29T04:32:00.907463",
   "version": "2.6.0"
  }
 },
 "nbformat": 4,
 "nbformat_minor": 5
}
